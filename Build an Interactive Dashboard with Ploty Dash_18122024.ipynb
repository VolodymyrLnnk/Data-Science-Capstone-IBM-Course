{
  "cells": [
    {
      "cell_type": "markdown",
      "metadata": {
        "id": "view-in-github",
        "colab_type": "text"
      },
      "source": [
        "<a href=\"https://colab.research.google.com/github/VolodymyrLnnk/Data-Science-Capstone-IBM-Course/blob/main/Build%20an%20Interactive%20Dashboard%20with%20Ploty%20Dash_18122024.ipynb\" target=\"_parent\"><img src=\"https://colab.research.google.com/assets/colab-badge.svg\" alt=\"Open In Colab\"/></a>"
      ]
    },
    {
      "cell_type": "code",
      "source": [
        "import dash"
      ],
      "metadata": {
        "id": "ffQklXImpU2T"
      },
      "execution_count": 5,
      "outputs": []
    },
    {
      "cell_type": "code",
      "source": [
        "import pandas as pd\n",
        "#import dash\n",
        "import dash_html_components as html\n",
        "import dash_core_components as dcc\n",
        "from dash.dependencies import Input, Output\n",
        "import plotly.express as px\n"
      ],
      "metadata": {
        "id": "laFRLuGWpdst"
      },
      "execution_count": 6,
      "outputs": []
    },
    {
      "cell_type": "code",
      "source": [
        "spacex_df = pd.read_csv(\"spacex_launch_dash.csv\")\n",
        "max_payload = spacex_df['Payload Mass (kg)'].max()\n",
        "min_payload = spacex_df['Payload Mass (kg)'].min()\n",
        "\n"
      ],
      "metadata": {
        "id": "GSF9-BZrphrs"
      },
      "execution_count": 7,
      "outputs": []
    },
    {
      "cell_type": "code",
      "source": [
        "app = dash.Dash(__name__)"
      ],
      "metadata": {
        "id": "LibZaxk3plWp"
      },
      "execution_count": 8,
      "outputs": []
    },
    {
      "cell_type": "code",
      "source": [
        "app.layout = html.Div(children=[html.H1('SpaceX Launch Records Dashboard',\n",
        "                                        style={'textAlign': 'center', 'color': '#503D36',\n",
        "                                               'font-size': 40}),\n",
        "                                # TASK 1: Add a dropdown list to enable Launch Site selection\n",
        "                                # The default select value is for ALL sites\n",
        "                                # dcc.Dropdown(id='site-dropdown',...)\n",
        "                                dcc.Dropdown(id='site-dropdown',\n",
        "                                             options=[{'label': 'All Sites', 'value': 'ALL'}] + [{'label': site, 'value': site} for site in spacex_df['Launch Site'].unique()],\n",
        "                                             value='ALL',  # Default value\n",
        "                                             placeholder=\"Select a Launch Site here\",\n",
        "                                             searchable=True\n",
        "                                ),\n",
        "                                html.Br(),\n",
        "\n",
        "                                # TASK 2: Add a pie chart to show the total successful launches count for all sites\n",
        "                                # If a specific launch site was selected, show the Success vs. Failed counts for the site\n",
        "                                html.Div(dcc.Graph(id='success-pie-chart')),\n",
        "                                html.Br(),\n",
        "\n",
        "                                html.P(\"Payload range (Kg):\"),\n",
        "                                # TASK 3: Add a slider to select payload range\n",
        "                                dcc.RangeSlider(id='payload-slider',\n",
        "                                                min=0, max=10000, step=1000,\n",
        "                                                marks={i: f'{i} Kg' for i in range(0, 11000, 1000)},\n",
        "                                                value=[min_payload, max_payload]\n",
        "                                ),\n",
        "                                html.Br(),\n",
        "\n",
        "                                # TASK 4: Add a scatter chart to show the correlation between payload and launch success\n",
        "                                html.Div(dcc.Graph(id='success-payload-scatter-chart')),\n",
        "                                ])\n",
        "\n",
        "# TASK 2:\n",
        "# Add a callback function for `site-dropdown` as input, `success-pie-chart` as output\n",
        "@app.callback(\n",
        "    Output(component_id='success-pie-chart', component_property='figure'),\n",
        "    Input(component_id='site-dropdown', component_property='value')\n",
        ")\n",
        "def get_pie_chart(entered_site):\n",
        "    if entered_site == 'ALL':\n",
        "        # Use all data for all sites\n",
        "        fig = px.pie(\n",
        "            spacex_df,\n",
        "            names='class',\n",
        "            title='Total Success Launches for All Sites'\n",
        "        )\n",
        "    else:\n",
        "        # Filter data for the selected site\n",
        "        filtered_df = spacex_df[spacex_df['Launch Site'] == entered_site]\n",
        "        fig = px.pie(\n",
        "            filtered_df,\n",
        "            names='class',\n",
        "            title=f'Total Success and Failure Launches for {entered_site}'\n",
        "        )\n",
        "    return fig\n",
        "\n",
        "# TASK 4:\n",
        "# Add a callback function for `site-dropdown` and `payload-slider` as inputs, `success-payload-scatter-chart` as output\n",
        "@app.callback(\n",
        "    Output(component_id='success-payload-scatter-chart', component_property='figure'),\n",
        "    [\n",
        "        Input(component_id='site-dropdown', component_property='value'),\n",
        "        Input(component_id='payload-slider', component_property='value')\n",
        "    ]\n",
        ")\n",
        "def update_scatter_chart(selected_site, payload_range):\n",
        "    # Filter data based on payload range\n",
        "    filtered_df = spacex_df[\n",
        "        (spacex_df['Payload Mass (kg)'] >= payload_range[0]) &\n",
        "        (spacex_df['Payload Mass (kg)'] <= payload_range[1])\n",
        "    ]\n",
        "\n",
        "    if selected_site == 'ALL':\n",
        "        # All sites\n",
        "        fig = px.scatter(\n",
        "            filtered_df,\n",
        "            x='Payload Mass (kg)',\n",
        "            y='class',\n",
        "            color='Booster Version Category',\n",
        "            title='Correlation Between Payload and Success for All Sites',\n",
        "            labels={'class': 'Launch Outcome'},\n",
        "            hover_data=['Launch Site']\n",
        "        )\n",
        "    else:\n",
        "        # Filter data for the selected site\n",
        "        site_filtered_df = filtered_df[filtered_df['Launch Site'] == selected_site]\n",
        "        fig = px.scatter(\n",
        "            site_filtered_df,\n",
        "            x='Payload Mass (kg)',\n",
        "            y='class',\n",
        "            color='Booster Version Category',\n",
        "            title=f'Correlation Between Payload and Success for {selected_site}',\n",
        "            labels={'class': 'Launch Outcome'},\n",
        "            hover_data=['Launch Site']\n",
        "        )\n",
        "    return fig\n"
      ],
      "metadata": {
        "id": "BuOmQbrZpo3j"
      },
      "execution_count": 9,
      "outputs": []
    },
    {
      "cell_type": "code",
      "source": [
        "if __name__ == '__main__':\n",
        "    app.run_server()\n",
        "\n"
      ],
      "metadata": {
        "colab": {
          "base_uri": "https://localhost:8080/",
          "height": 672
        },
        "id": "pGICjMJSpwh_",
        "outputId": "f73a681e-e0d3-47a5-e4aa-9754c365a85e"
      },
      "execution_count": 10,
      "outputs": [
        {
          "output_type": "display_data",
          "data": {
            "text/plain": [
              "<IPython.core.display.Javascript object>"
            ],
            "application/javascript": [
              "(async (port, path, width, height, cache, element) => {\n",
              "    if (!google.colab.kernel.accessAllowed && !cache) {\n",
              "      return;\n",
              "    }\n",
              "    element.appendChild(document.createTextNode(''));\n",
              "    const url = await google.colab.kernel.proxyPort(port, {cache});\n",
              "    const iframe = document.createElement('iframe');\n",
              "    iframe.src = new URL(path, url).toString();\n",
              "    iframe.height = height;\n",
              "    iframe.width = width;\n",
              "    iframe.style.border = 0;\n",
              "    iframe.allow = [\n",
              "        'accelerometer',\n",
              "        'autoplay',\n",
              "        'camera',\n",
              "        'clipboard-read',\n",
              "        'clipboard-write',\n",
              "        'gyroscope',\n",
              "        'magnetometer',\n",
              "        'microphone',\n",
              "        'serial',\n",
              "        'usb',\n",
              "        'xr-spatial-tracking',\n",
              "    ].join('; ');\n",
              "    element.appendChild(iframe);\n",
              "  })(8050, \"/\", \"100%\", 650, false, window.element)"
            ]
          },
          "metadata": {}
        }
      ]
    }
  ],
  "metadata": {
    "colab": {
      "name": "Добро пожаловать в Colaboratory!",
      "provenance": [],
      "include_colab_link": true
    },
    "kernelspec": {
      "display_name": "Python 3",
      "name": "python3"
    }
  },
  "nbformat": 4,
  "nbformat_minor": 0
}